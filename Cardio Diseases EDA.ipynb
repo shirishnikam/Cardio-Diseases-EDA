{
 "cells": [
  {
   "cell_type": "code",
   "execution_count": null,
   "id": "42baffdb",
   "metadata": {},
   "outputs": [],
   "source": []
  },
  {
   "cell_type": "code",
   "execution_count": 3,
   "id": "26e7af30",
   "metadata": {},
   "outputs": [],
   "source": [
    "import pandas as pd\n",
    "import numpy as np\n",
    "import matplotlib.pyplot as plt\n",
    "import seaborn as sns\n",
    "from warnings import filterwarnings\n",
    "filterwarnings(\"ignore\")"
   ]
  },
  {
   "cell_type": "code",
   "execution_count": 4,
   "id": "7b8200c8",
   "metadata": {},
   "outputs": [],
   "source": [
    "data = pd.read_csv(\"Cardio Data.csv\")"
   ]
  },
  {
   "cell_type": "code",
   "execution_count": 5,
   "id": "d1fb45d3",
   "metadata": {},
   "outputs": [
    {
     "data": {
      "text/html": [
       "<div>\n",
       "<style scoped>\n",
       "    .dataframe tbody tr th:only-of-type {\n",
       "        vertical-align: middle;\n",
       "    }\n",
       "\n",
       "    .dataframe tbody tr th {\n",
       "        vertical-align: top;\n",
       "    }\n",
       "\n",
       "    .dataframe thead th {\n",
       "        text-align: right;\n",
       "    }\n",
       "</style>\n",
       "<table border=\"1\" class=\"dataframe\">\n",
       "  <thead>\n",
       "    <tr style=\"text-align: right;\">\n",
       "      <th></th>\n",
       "      <th>id</th>\n",
       "      <th>age</th>\n",
       "      <th>gender</th>\n",
       "      <th>height</th>\n",
       "      <th>weight</th>\n",
       "      <th>ap_hi</th>\n",
       "      <th>ap_lo</th>\n",
       "      <th>cholesterol</th>\n",
       "      <th>gluc</th>\n",
       "      <th>smoke</th>\n",
       "      <th>alco</th>\n",
       "      <th>active</th>\n",
       "      <th>cardio</th>\n",
       "    </tr>\n",
       "  </thead>\n",
       "  <tbody>\n",
       "    <tr>\n",
       "      <th>0</th>\n",
       "      <td>0</td>\n",
       "      <td>18393</td>\n",
       "      <td>2</td>\n",
       "      <td>168</td>\n",
       "      <td>62.0</td>\n",
       "      <td>110</td>\n",
       "      <td>80</td>\n",
       "      <td>1</td>\n",
       "      <td>1</td>\n",
       "      <td>0</td>\n",
       "      <td>0</td>\n",
       "      <td>1</td>\n",
       "      <td>0</td>\n",
       "    </tr>\n",
       "    <tr>\n",
       "      <th>1</th>\n",
       "      <td>1</td>\n",
       "      <td>20228</td>\n",
       "      <td>1</td>\n",
       "      <td>156</td>\n",
       "      <td>85.0</td>\n",
       "      <td>140</td>\n",
       "      <td>90</td>\n",
       "      <td>3</td>\n",
       "      <td>1</td>\n",
       "      <td>0</td>\n",
       "      <td>0</td>\n",
       "      <td>1</td>\n",
       "      <td>1</td>\n",
       "    </tr>\n",
       "    <tr>\n",
       "      <th>2</th>\n",
       "      <td>2</td>\n",
       "      <td>18857</td>\n",
       "      <td>1</td>\n",
       "      <td>165</td>\n",
       "      <td>64.0</td>\n",
       "      <td>130</td>\n",
       "      <td>70</td>\n",
       "      <td>3</td>\n",
       "      <td>1</td>\n",
       "      <td>0</td>\n",
       "      <td>0</td>\n",
       "      <td>0</td>\n",
       "      <td>1</td>\n",
       "    </tr>\n",
       "    <tr>\n",
       "      <th>3</th>\n",
       "      <td>3</td>\n",
       "      <td>17623</td>\n",
       "      <td>2</td>\n",
       "      <td>169</td>\n",
       "      <td>82.0</td>\n",
       "      <td>150</td>\n",
       "      <td>100</td>\n",
       "      <td>1</td>\n",
       "      <td>1</td>\n",
       "      <td>0</td>\n",
       "      <td>0</td>\n",
       "      <td>1</td>\n",
       "      <td>1</td>\n",
       "    </tr>\n",
       "    <tr>\n",
       "      <th>4</th>\n",
       "      <td>4</td>\n",
       "      <td>17474</td>\n",
       "      <td>1</td>\n",
       "      <td>156</td>\n",
       "      <td>56.0</td>\n",
       "      <td>100</td>\n",
       "      <td>60</td>\n",
       "      <td>1</td>\n",
       "      <td>1</td>\n",
       "      <td>0</td>\n",
       "      <td>0</td>\n",
       "      <td>0</td>\n",
       "      <td>0</td>\n",
       "    </tr>\n",
       "  </tbody>\n",
       "</table>\n",
       "</div>"
      ],
      "text/plain": [
       "   id    age  gender  height  weight  ap_hi  ap_lo  cholesterol  gluc  smoke  \\\n",
       "0   0  18393       2     168    62.0    110     80            1     1      0   \n",
       "1   1  20228       1     156    85.0    140     90            3     1      0   \n",
       "2   2  18857       1     165    64.0    130     70            3     1      0   \n",
       "3   3  17623       2     169    82.0    150    100            1     1      0   \n",
       "4   4  17474       1     156    56.0    100     60            1     1      0   \n",
       "\n",
       "   alco  active  cardio  \n",
       "0     0       1       0  \n",
       "1     0       1       1  \n",
       "2     0       0       1  \n",
       "3     0       1       1  \n",
       "4     0       0       0  "
      ]
     },
     "execution_count": 5,
     "metadata": {},
     "output_type": "execute_result"
    }
   ],
   "source": [
    "data.head()"
   ]
  },
  {
   "cell_type": "code",
   "execution_count": 6,
   "id": "161dcc08",
   "metadata": {},
   "outputs": [
    {
     "data": {
      "text/plain": [
       "(70000, 13)"
      ]
     },
     "execution_count": 6,
     "metadata": {},
     "output_type": "execute_result"
    }
   ],
   "source": [
    "# checking the shape\n",
    "data.shape"
   ]
  },
  {
   "cell_type": "code",
   "execution_count": 7,
   "id": "cf1db2cd",
   "metadata": {},
   "outputs": [
    {
     "name": "stdout",
     "output_type": "stream",
     "text": [
      "<class 'pandas.core.frame.DataFrame'>\n",
      "RangeIndex: 70000 entries, 0 to 69999\n",
      "Data columns (total 13 columns):\n",
      " #   Column       Non-Null Count  Dtype  \n",
      "---  ------       --------------  -----  \n",
      " 0   id           70000 non-null  int64  \n",
      " 1   age          70000 non-null  int64  \n",
      " 2   gender       70000 non-null  int64  \n",
      " 3   height       70000 non-null  int64  \n",
      " 4   weight       70000 non-null  float64\n",
      " 5   ap_hi        70000 non-null  int64  \n",
      " 6   ap_lo        70000 non-null  int64  \n",
      " 7   cholesterol  70000 non-null  int64  \n",
      " 8   gluc         70000 non-null  int64  \n",
      " 9   smoke        70000 non-null  int64  \n",
      " 10  alco         70000 non-null  int64  \n",
      " 11  active       70000 non-null  int64  \n",
      " 12  cardio       70000 non-null  int64  \n",
      "dtypes: float64(1), int64(12)\n",
      "memory usage: 6.9 MB\n"
     ]
    }
   ],
   "source": [
    "# checking info\n",
    "data.info()"
   ]
  },
  {
   "cell_type": "code",
   "execution_count": 8,
   "id": "31fdbf0f",
   "metadata": {},
   "outputs": [
    {
     "data": {
      "text/html": [
       "<div>\n",
       "<style scoped>\n",
       "    .dataframe tbody tr th:only-of-type {\n",
       "        vertical-align: middle;\n",
       "    }\n",
       "\n",
       "    .dataframe tbody tr th {\n",
       "        vertical-align: top;\n",
       "    }\n",
       "\n",
       "    .dataframe thead th {\n",
       "        text-align: right;\n",
       "    }\n",
       "</style>\n",
       "<table border=\"1\" class=\"dataframe\">\n",
       "  <thead>\n",
       "    <tr style=\"text-align: right;\">\n",
       "      <th></th>\n",
       "      <th>id</th>\n",
       "      <th>age</th>\n",
       "      <th>gender</th>\n",
       "      <th>height</th>\n",
       "      <th>weight</th>\n",
       "      <th>ap_hi</th>\n",
       "      <th>ap_lo</th>\n",
       "      <th>cholesterol</th>\n",
       "      <th>gluc</th>\n",
       "      <th>smoke</th>\n",
       "      <th>alco</th>\n",
       "      <th>active</th>\n",
       "      <th>cardio</th>\n",
       "    </tr>\n",
       "  </thead>\n",
       "  <tbody>\n",
       "    <tr>\n",
       "      <th>count</th>\n",
       "      <td>70000.000000</td>\n",
       "      <td>70000.000000</td>\n",
       "      <td>70000.000000</td>\n",
       "      <td>70000.000000</td>\n",
       "      <td>70000.000000</td>\n",
       "      <td>70000.000000</td>\n",
       "      <td>70000.000000</td>\n",
       "      <td>70000.000000</td>\n",
       "      <td>70000.000000</td>\n",
       "      <td>70000.000000</td>\n",
       "      <td>70000.000000</td>\n",
       "      <td>70000.000000</td>\n",
       "      <td>70000.000000</td>\n",
       "    </tr>\n",
       "    <tr>\n",
       "      <th>mean</th>\n",
       "      <td>49972.419900</td>\n",
       "      <td>19468.865814</td>\n",
       "      <td>1.349571</td>\n",
       "      <td>164.359229</td>\n",
       "      <td>74.205690</td>\n",
       "      <td>128.817286</td>\n",
       "      <td>96.630414</td>\n",
       "      <td>1.366871</td>\n",
       "      <td>1.226457</td>\n",
       "      <td>0.088129</td>\n",
       "      <td>0.053771</td>\n",
       "      <td>0.803729</td>\n",
       "      <td>0.499700</td>\n",
       "    </tr>\n",
       "    <tr>\n",
       "      <th>std</th>\n",
       "      <td>28851.302323</td>\n",
       "      <td>2467.251667</td>\n",
       "      <td>0.476838</td>\n",
       "      <td>8.210126</td>\n",
       "      <td>14.395757</td>\n",
       "      <td>154.011419</td>\n",
       "      <td>188.472530</td>\n",
       "      <td>0.680250</td>\n",
       "      <td>0.572270</td>\n",
       "      <td>0.283484</td>\n",
       "      <td>0.225568</td>\n",
       "      <td>0.397179</td>\n",
       "      <td>0.500003</td>\n",
       "    </tr>\n",
       "    <tr>\n",
       "      <th>min</th>\n",
       "      <td>0.000000</td>\n",
       "      <td>10798.000000</td>\n",
       "      <td>1.000000</td>\n",
       "      <td>55.000000</td>\n",
       "      <td>10.000000</td>\n",
       "      <td>-150.000000</td>\n",
       "      <td>-70.000000</td>\n",
       "      <td>1.000000</td>\n",
       "      <td>1.000000</td>\n",
       "      <td>0.000000</td>\n",
       "      <td>0.000000</td>\n",
       "      <td>0.000000</td>\n",
       "      <td>0.000000</td>\n",
       "    </tr>\n",
       "    <tr>\n",
       "      <th>25%</th>\n",
       "      <td>25006.750000</td>\n",
       "      <td>17664.000000</td>\n",
       "      <td>1.000000</td>\n",
       "      <td>159.000000</td>\n",
       "      <td>65.000000</td>\n",
       "      <td>120.000000</td>\n",
       "      <td>80.000000</td>\n",
       "      <td>1.000000</td>\n",
       "      <td>1.000000</td>\n",
       "      <td>0.000000</td>\n",
       "      <td>0.000000</td>\n",
       "      <td>1.000000</td>\n",
       "      <td>0.000000</td>\n",
       "    </tr>\n",
       "    <tr>\n",
       "      <th>50%</th>\n",
       "      <td>50001.500000</td>\n",
       "      <td>19703.000000</td>\n",
       "      <td>1.000000</td>\n",
       "      <td>165.000000</td>\n",
       "      <td>72.000000</td>\n",
       "      <td>120.000000</td>\n",
       "      <td>80.000000</td>\n",
       "      <td>1.000000</td>\n",
       "      <td>1.000000</td>\n",
       "      <td>0.000000</td>\n",
       "      <td>0.000000</td>\n",
       "      <td>1.000000</td>\n",
       "      <td>0.000000</td>\n",
       "    </tr>\n",
       "    <tr>\n",
       "      <th>75%</th>\n",
       "      <td>74889.250000</td>\n",
       "      <td>21327.000000</td>\n",
       "      <td>2.000000</td>\n",
       "      <td>170.000000</td>\n",
       "      <td>82.000000</td>\n",
       "      <td>140.000000</td>\n",
       "      <td>90.000000</td>\n",
       "      <td>2.000000</td>\n",
       "      <td>1.000000</td>\n",
       "      <td>0.000000</td>\n",
       "      <td>0.000000</td>\n",
       "      <td>1.000000</td>\n",
       "      <td>1.000000</td>\n",
       "    </tr>\n",
       "    <tr>\n",
       "      <th>max</th>\n",
       "      <td>99999.000000</td>\n",
       "      <td>23713.000000</td>\n",
       "      <td>2.000000</td>\n",
       "      <td>250.000000</td>\n",
       "      <td>200.000000</td>\n",
       "      <td>16020.000000</td>\n",
       "      <td>11000.000000</td>\n",
       "      <td>3.000000</td>\n",
       "      <td>3.000000</td>\n",
       "      <td>1.000000</td>\n",
       "      <td>1.000000</td>\n",
       "      <td>1.000000</td>\n",
       "      <td>1.000000</td>\n",
       "    </tr>\n",
       "  </tbody>\n",
       "</table>\n",
       "</div>"
      ],
      "text/plain": [
       "                 id           age        gender        height        weight  \\\n",
       "count  70000.000000  70000.000000  70000.000000  70000.000000  70000.000000   \n",
       "mean   49972.419900  19468.865814      1.349571    164.359229     74.205690   \n",
       "std    28851.302323   2467.251667      0.476838      8.210126     14.395757   \n",
       "min        0.000000  10798.000000      1.000000     55.000000     10.000000   \n",
       "25%    25006.750000  17664.000000      1.000000    159.000000     65.000000   \n",
       "50%    50001.500000  19703.000000      1.000000    165.000000     72.000000   \n",
       "75%    74889.250000  21327.000000      2.000000    170.000000     82.000000   \n",
       "max    99999.000000  23713.000000      2.000000    250.000000    200.000000   \n",
       "\n",
       "              ap_hi         ap_lo   cholesterol          gluc         smoke  \\\n",
       "count  70000.000000  70000.000000  70000.000000  70000.000000  70000.000000   \n",
       "mean     128.817286     96.630414      1.366871      1.226457      0.088129   \n",
       "std      154.011419    188.472530      0.680250      0.572270      0.283484   \n",
       "min     -150.000000    -70.000000      1.000000      1.000000      0.000000   \n",
       "25%      120.000000     80.000000      1.000000      1.000000      0.000000   \n",
       "50%      120.000000     80.000000      1.000000      1.000000      0.000000   \n",
       "75%      140.000000     90.000000      2.000000      1.000000      0.000000   \n",
       "max    16020.000000  11000.000000      3.000000      3.000000      1.000000   \n",
       "\n",
       "               alco        active        cardio  \n",
       "count  70000.000000  70000.000000  70000.000000  \n",
       "mean       0.053771      0.803729      0.499700  \n",
       "std        0.225568      0.397179      0.500003  \n",
       "min        0.000000      0.000000      0.000000  \n",
       "25%        0.000000      1.000000      0.000000  \n",
       "50%        0.000000      1.000000      0.000000  \n",
       "75%        0.000000      1.000000      1.000000  \n",
       "max        1.000000      1.000000      1.000000  "
      ]
     },
     "execution_count": 8,
     "metadata": {},
     "output_type": "execute_result"
    }
   ],
   "source": [
    "# describing the data\n",
    "data.describe()"
   ]
  },
  {
   "cell_type": "code",
   "execution_count": 9,
   "id": "c3ca6ce8",
   "metadata": {},
   "outputs": [
    {
     "data": {
      "text/plain": [
       "id             0\n",
       "age            0\n",
       "gender         0\n",
       "height         0\n",
       "weight         0\n",
       "ap_hi          0\n",
       "ap_lo          0\n",
       "cholesterol    0\n",
       "gluc           0\n",
       "smoke          0\n",
       "alco           0\n",
       "active         0\n",
       "cardio         0\n",
       "dtype: int64"
      ]
     },
     "execution_count": 9,
     "metadata": {},
     "output_type": "execute_result"
    }
   ],
   "source": [
    "# checking the null values\n",
    "data.isnull().sum()"
   ]
  },
  {
   "cell_type": "code",
   "execution_count": 10,
   "id": "12c2b304",
   "metadata": {},
   "outputs": [
    {
     "data": {
      "image/png": "[encoded data removed]",
      "text/plain": [
       "<Figure size 576x360 with 1 Axes>"
      ]
     },
     "metadata": {
      "needs_background": "light"
     },
     "output_type": "display_data"
    }
   ],
   "source": [
    "# outliers in ap_hi\n",
    "plt.figure(figsize=(8,5))\n",
    "sns.boxplot(x=data[\"ap_hi\"])\n",
    "plt.show()"
   ]
  },
  {
   "cell_type": "markdown",
   "id": "d3f4631d",
   "metadata": {},
   "source": [
    "- few of the patient are having Systolic blood pressure "
   ]
  },
  {
   "cell_type": "code",
   "execution_count": 11,
   "id": "08243650",
   "metadata": {},
   "outputs": [
    {
     "data": {
      "image/png": "[encoded data removed]",
      "text/plain": [
       "<Figure size 576x360 with 1 Axes>"
      ]
     },
     "metadata": {
      "needs_background": "light"
     },
     "output_type": "display_data"
    }
   ],
   "source": [
    "# ouliers in ap_lo\n",
    "plt.figure(figsize=(8,5))\n",
    "sns.boxplot(data[\"ap_lo\"])\n",
    "plt.show()"
   ]
  },
  {
   "cell_type": "markdown",
   "id": "3312498b",
   "metadata": {},
   "source": [
    "- some are the patient are having Diastolic blood pressure"
   ]
  },
  {
   "cell_type": "code",
   "execution_count": 12,
   "id": "06be88ad",
   "metadata": {},
   "outputs": [
    {
     "data": {
      "text/html": [
       "<div>\n",
       "<style scoped>\n",
       "    .dataframe tbody tr th:only-of-type {\n",
       "        vertical-align: middle;\n",
       "    }\n",
       "\n",
       "    .dataframe tbody tr th {\n",
       "        vertical-align: top;\n",
       "    }\n",
       "\n",
       "    .dataframe thead th {\n",
       "        text-align: right;\n",
       "    }\n",
       "</style>\n",
       "<table border=\"1\" class=\"dataframe\">\n",
       "  <thead>\n",
       "    <tr style=\"text-align: right;\">\n",
       "      <th></th>\n",
       "      <th>id</th>\n",
       "      <th>age</th>\n",
       "      <th>gender</th>\n",
       "      <th>height</th>\n",
       "      <th>weight</th>\n",
       "      <th>ap_hi</th>\n",
       "      <th>ap_lo</th>\n",
       "      <th>cholesterol</th>\n",
       "      <th>gluc</th>\n",
       "      <th>smoke</th>\n",
       "      <th>alco</th>\n",
       "      <th>active</th>\n",
       "      <th>cardio</th>\n",
       "    </tr>\n",
       "  </thead>\n",
       "  <tbody>\n",
       "    <tr>\n",
       "      <th>0</th>\n",
       "      <td>0</td>\n",
       "      <td>18393</td>\n",
       "      <td>2</td>\n",
       "      <td>168</td>\n",
       "      <td>62.0</td>\n",
       "      <td>110</td>\n",
       "      <td>80</td>\n",
       "      <td>1</td>\n",
       "      <td>1</td>\n",
       "      <td>0</td>\n",
       "      <td>0</td>\n",
       "      <td>1</td>\n",
       "      <td>0</td>\n",
       "    </tr>\n",
       "  </tbody>\n",
       "</table>\n",
       "</div>"
      ],
      "text/plain": [
       "   id    age  gender  height  weight  ap_hi  ap_lo  cholesterol  gluc  smoke  \\\n",
       "0   0  18393       2     168    62.0    110     80            1     1      0   \n",
       "\n",
       "   alco  active  cardio  \n",
       "0     0       1       0  "
      ]
     },
     "execution_count": 12,
     "metadata": {},
     "output_type": "execute_result"
    }
   ],
   "source": [
    "data.head(1)"
   ]
  },
  {
   "cell_type": "code",
   "execution_count": 13,
   "id": "e2b2ebc0",
   "metadata": {},
   "outputs": [],
   "source": [
    "# converting the gender and cardio to categorical\n",
    "data.gender = data.gender.replace([1,2],[\"Male\",\"Female\"])\n",
    "data.cardio = data.cardio.replace([1,0],[\"Yes\",\"No\"])"
   ]
  },
  {
   "cell_type": "code",
   "execution_count": 14,
   "id": "72b42364",
   "metadata": {},
   "outputs": [
    {
     "data": {
      "text/plain": [
       "Male      45530\n",
       "Female    24470\n",
       "Name: gender, dtype: int64"
      ]
     },
     "execution_count": 14,
     "metadata": {},
     "output_type": "execute_result"
    }
   ],
   "source": [
    "data[\"gender\"].value_counts()"
   ]
  },
  {
   "cell_type": "code",
   "execution_count": 15,
   "id": "0a855bb3",
   "metadata": {},
   "outputs": [
    {
     "data": {
      "text/plain": [
       "No     35021\n",
       "Yes    34979\n",
       "Name: cardio, dtype: int64"
      ]
     },
     "execution_count": 15,
     "metadata": {},
     "output_type": "execute_result"
    }
   ],
   "source": [
    "data[\"cardio\"].value_counts()"
   ]
  },
  {
   "cell_type": "code",
   "execution_count": 16,
   "id": "10a86410",
   "metadata": {},
   "outputs": [],
   "source": [
    "# converting the type to str\n",
    "data.gender = data.gender.astype(\"str\")\n",
    "data.cardio = data.cardio.astype(\"str\")"
   ]
  },
  {
   "cell_type": "code",
   "execution_count": 17,
   "id": "8cf5c73c",
   "metadata": {},
   "outputs": [
    {
     "data": {
      "text/plain": [
       "gender  cardio\n",
       "Female  Yes       12363\n",
       "        No        12107\n",
       "Male    No        22914\n",
       "        Yes       22616\n",
       "Name: cardio, dtype: int64"
      ]
     },
     "execution_count": 17,
     "metadata": {},
     "output_type": "execute_result"
    }
   ],
   "source": [
    "# which gender are having cardiac disorder % wise\n",
    "data.groupby(\"gender\")[\"cardio\"].value_counts()"
   ]
  },
  {
   "cell_type": "code",
   "execution_count": 18,
   "id": "ddabd5f0",
   "metadata": {},
   "outputs": [
    {
     "data": {
      "text/plain": [
       "gender  cardio\n",
       "Female  Yes       50.5%\n",
       "        No        49.5%\n",
       "Male    No        50.3%\n",
       "        Yes       49.7%\n",
       "Name: cardio, dtype: object"
      ]
     },
     "execution_count": 18,
     "metadata": {},
     "output_type": "execute_result"
    }
   ],
   "source": [
    "data.groupby(\"gender\")[\"cardio\"].value_counts(normalize=True).mul(100).round(1).astype(str)+\"%\""
   ]
  },
  {
   "cell_type": "code",
   "execution_count": 19,
   "id": "96467652",
   "metadata": {},
   "outputs": [
    {
     "data": {
      "image/png": "[encoded data removed]",
      "text/plain": [
       "<Figure size 576x432 with 1 Axes>"
      ]
     },
     "metadata": {
      "needs_background": "light"
     },
     "output_type": "display_data"
    }
   ],
   "source": [
    "plt.figure(figsize=(8,6))\n",
    "data.groupby(\"gender\")[\"cardio\"].value_counts().plot(kind=\"bar\")\n",
    "plt.show()"
   ]
  },
  {
   "cell_type": "code",
   "execution_count": 20,
   "id": "d3220159",
   "metadata": {},
   "outputs": [
    {
     "data": {
      "image/png": "[encoded data removed]",
      "text/plain": [
       "<Figure size 1080x576 with 1 Axes>"
      ]
     },
     "metadata": {},
     "output_type": "display_data"
    }
   ],
   "source": [
    "plt.figure(figsize=(15,8))\n",
    "data.groupby(\"gender\")[\"cardio\"].value_counts().plot(kind=\"pie\",autopct=\"%1.1f%%\")\n",
    "plt.show()"
   ]
  },
  {
   "cell_type": "markdown",
   "id": "0d609821",
   "metadata": {},
   "source": [
    "- from our whole data 17.7% female suffering and 32.3% men are suffering from cardiac diseases\n",
    "- we have 12363 females out of 24470 who are total 50.52% of all female candidate suffering with the cardiac disorder\n",
    "- and its exactly opposite with the men having 49.67% with figure of 22616 out of 45530"
   ]
  },
  {
   "cell_type": "code",
   "execution_count": 21,
   "id": "407baf8d",
   "metadata": {},
   "outputs": [
    {
     "data": {
      "image/png": "[encoded data removed]",
      "text/plain": [
       "<Figure size 576x432 with 1 Axes>"
      ]
     },
     "metadata": {
      "needs_background": "light"
     },
     "output_type": "display_data"
    }
   ],
   "source": [
    "# Find out and visualize the correlation between ap_hi and ap_lo for both the genders \n",
    "plt.figure(figsize=(8,6))\n",
    "sns.scatterplot(x=\"ap_hi\",y=\"ap_lo\",data=data,hue=\"gender\")\n",
    "plt.show()"
   ]
  },
  {
   "cell_type": "markdown",
   "id": "9df6e382",
   "metadata": {},
   "source": [
    "- if the Systolic blood pressure of patient is high then its distoltic blood pressure is low as they are having correlation of 0.01 and vice a versa"
   ]
  },
  {
   "cell_type": "code",
   "execution_count": 22,
   "id": "e9ed004a",
   "metadata": {},
   "outputs": [
    {
     "data": {
      "text/html": [
       "<div>\n",
       "<style scoped>\n",
       "    .dataframe tbody tr th:only-of-type {\n",
       "        vertical-align: middle;\n",
       "    }\n",
       "\n",
       "    .dataframe tbody tr th {\n",
       "        vertical-align: top;\n",
       "    }\n",
       "\n",
       "    .dataframe thead th {\n",
       "        text-align: right;\n",
       "    }\n",
       "</style>\n",
       "<table border=\"1\" class=\"dataframe\">\n",
       "  <thead>\n",
       "    <tr style=\"text-align: right;\">\n",
       "      <th></th>\n",
       "      <th>ap_hi</th>\n",
       "      <th>ap_lo</th>\n",
       "    </tr>\n",
       "  </thead>\n",
       "  <tbody>\n",
       "    <tr>\n",
       "      <th>ap_hi</th>\n",
       "      <td>1.000000</td>\n",
       "      <td>0.016086</td>\n",
       "    </tr>\n",
       "    <tr>\n",
       "      <th>ap_lo</th>\n",
       "      <td>0.016086</td>\n",
       "      <td>1.000000</td>\n",
       "    </tr>\n",
       "  </tbody>\n",
       "</table>\n",
       "</div>"
      ],
      "text/plain": [
       "          ap_hi     ap_lo\n",
       "ap_hi  1.000000  0.016086\n",
       "ap_lo  0.016086  1.000000"
      ]
     },
     "execution_count": 22,
     "metadata": {},
     "output_type": "execute_result"
    }
   ],
   "source": [
    "data.loc[:,[\"ap_hi\",\"ap_lo\"]].corr()"
   ]
  },
  {
   "cell_type": "code",
   "execution_count": 23,
   "id": "3956455a",
   "metadata": {},
   "outputs": [],
   "source": [
    "# which age group is the most affected group of cardiac diseases \n",
    "data[\"age\"] = (data[\"age\"]/365).astype(int)"
   ]
  },
  {
   "cell_type": "code",
   "execution_count": 24,
   "id": "41cb8f8d",
   "metadata": {},
   "outputs": [
    {
     "data": {
      "text/plain": [
       "0    50\n",
       "1    55\n",
       "2    51\n",
       "3    48\n",
       "4    47\n",
       "Name: age, dtype: int32"
      ]
     },
     "execution_count": 24,
     "metadata": {},
     "output_type": "execute_result"
    }
   ],
   "source": [
    "data[\"age\"].head()"
   ]
  },
  {
   "cell_type": "code",
   "execution_count": 25,
   "id": "46cb130e",
   "metadata": {},
   "outputs": [],
   "source": [
    "x = data[((data[\"age\"]) & (data[\"cardio\"]==\"Yes\"))][[\"age\"]]"
   ]
  },
  {
   "cell_type": "code",
   "execution_count": 26,
   "id": "01e3651f",
   "metadata": {},
   "outputs": [
    {
     "data": {
      "text/plain": [
       "<Figure size 720x576 with 0 Axes>"
      ]
     },
     "metadata": {},
     "output_type": "display_data"
    },
    {
     "data": {
      "image/png": "[encoded data removed]",
      "text/plain": [
       "<Figure size 720x576 with 1 Axes>"
      ]
     },
     "metadata": {
      "needs_background": "light"
     },
     "output_type": "display_data"
    }
   ],
   "source": [
    "plt.figure(figsize=(10,8))\n",
    "x.plot.hist(bins=10)\n",
    "plt.show()"
   ]
  },
  {
   "cell_type": "markdown",
   "id": "c3ce2fd5",
   "metadata": {},
   "source": [
    "- according to the chart the most affected group of cardiac diseases is from age 50 to 63"
   ]
  },
  {
   "cell_type": "code",
   "execution_count": 27,
   "id": "2582b838",
   "metadata": {},
   "outputs": [],
   "source": [
    "# Finding out the % of patients having cardiac disorder with ap_hi and weight more than their respective means \n",
    "h_w = data[((data.weight > data.weight.mean()) & (data.cardio == \"Yes\") & (data.ap_hi > data.ap_hi.mean()))][\"id\"].count()"
   ]
  },
  {
   "cell_type": "code",
   "execution_count": 28,
   "id": "7f11ed08",
   "metadata": {},
   "outputs": [],
   "source": [
    "y = data.id.count()"
   ]
  },
  {
   "cell_type": "code",
   "execution_count": 29,
   "id": "9e2ec703",
   "metadata": {},
   "outputs": [
    {
     "data": {
      "text/plain": [
       "17.844285714285714"
      ]
     },
     "execution_count": 29,
     "metadata": {},
     "output_type": "execute_result"
    }
   ],
   "source": [
    "(h_w/y)*100"
   ]
  },
  {
   "cell_type": "markdown",
   "id": "3455f394",
   "metadata": {},
   "source": [
    "- approximately 18% patients we have with us who are having their weight and ap_hi more than average of the all patients"
   ]
  },
  {
   "cell_type": "code",
   "execution_count": 30,
   "id": "ce8a6c67",
   "metadata": {},
   "outputs": [
    {
     "data": {
      "text/html": [
       "<div>\n",
       "<style scoped>\n",
       "    .dataframe tbody tr th:only-of-type {\n",
       "        vertical-align: middle;\n",
       "    }\n",
       "\n",
       "    .dataframe tbody tr th {\n",
       "        vertical-align: top;\n",
       "    }\n",
       "\n",
       "    .dataframe thead th {\n",
       "        text-align: right;\n",
       "    }\n",
       "</style>\n",
       "<table border=\"1\" class=\"dataframe\">\n",
       "  <thead>\n",
       "    <tr style=\"text-align: right;\">\n",
       "      <th></th>\n",
       "      <th>id</th>\n",
       "      <th>age</th>\n",
       "      <th>gender</th>\n",
       "      <th>height</th>\n",
       "      <th>weight</th>\n",
       "      <th>ap_hi</th>\n",
       "      <th>ap_lo</th>\n",
       "      <th>cholesterol</th>\n",
       "      <th>gluc</th>\n",
       "      <th>smoke</th>\n",
       "      <th>alco</th>\n",
       "      <th>active</th>\n",
       "      <th>cardio</th>\n",
       "    </tr>\n",
       "  </thead>\n",
       "  <tbody>\n",
       "    <tr>\n",
       "      <th>0</th>\n",
       "      <td>0</td>\n",
       "      <td>50</td>\n",
       "      <td>Female</td>\n",
       "      <td>168</td>\n",
       "      <td>62.0</td>\n",
       "      <td>110</td>\n",
       "      <td>80</td>\n",
       "      <td>1</td>\n",
       "      <td>1</td>\n",
       "      <td>0</td>\n",
       "      <td>0</td>\n",
       "      <td>1</td>\n",
       "      <td>No</td>\n",
       "    </tr>\n",
       "  </tbody>\n",
       "</table>\n",
       "</div>"
      ],
      "text/plain": [
       "   id  age  gender  height  weight  ap_hi  ap_lo  cholesterol  gluc  smoke  \\\n",
       "0   0   50  Female     168    62.0    110     80            1     1      0   \n",
       "\n",
       "   alco  active cardio  \n",
       "0     0       1     No  "
      ]
     },
     "execution_count": 30,
     "metadata": {},
     "output_type": "execute_result"
    }
   ],
   "source": [
    "data.head(1)"
   ]
  },
  {
   "cell_type": "code",
   "execution_count": 31,
   "id": "43caea81",
   "metadata": {},
   "outputs": [],
   "source": [
    "# for better analysis replacing cholesterol values to categorical\n",
    "data.cholesterol = data.cholesterol.replace([1,2,3],[\"Normal\",\"Slightly_above_normal\",\"High cholesterol\"])"
   ]
  },
  {
   "cell_type": "code",
   "execution_count": 32,
   "id": "7ef0edaf",
   "metadata": {},
   "outputs": [],
   "source": [
    "data.cholesterol = data.cholesterol.astype(\"str\")"
   ]
  },
  {
   "cell_type": "code",
   "execution_count": 33,
   "id": "803f7e91",
   "metadata": {},
   "outputs": [
    {
     "data": {
      "text/plain": [
       "Normal                   52385\n",
       "Slightly_above_normal     9549\n",
       "High cholesterol          8066\n",
       "Name: cholesterol, dtype: int64"
      ]
     },
     "execution_count": 33,
     "metadata": {},
     "output_type": "execute_result"
    }
   ],
   "source": [
    "# Finding the category of cholesterol that has the highest number of cardiac patients\n",
    "data[\"cholesterol\"].value_counts()"
   ]
  },
  {
   "cell_type": "code",
   "execution_count": 34,
   "id": "c7096e23",
   "metadata": {},
   "outputs": [
    {
     "data": {
      "text/plain": [
       "Normal                   74.835714\n",
       "Slightly_above_normal    13.641429\n",
       "High cholesterol         11.522857\n",
       "Name: cholesterol, dtype: float64"
      ]
     },
     "execution_count": 34,
     "metadata": {},
     "output_type": "execute_result"
    }
   ],
   "source": [
    "# according percent wise\n",
    "data[\"cholesterol\"].value_counts(normalize=True)*100"
   ]
  },
  {
   "cell_type": "code",
   "execution_count": 35,
   "id": "b2265787",
   "metadata": {},
   "outputs": [
    {
     "data": {
      "image/png": "[encoded data removed]",
      "text/plain": [
       "<Figure size 648x576 with 1 Axes>"
      ]
     },
     "metadata": {},
     "output_type": "display_data"
    }
   ],
   "source": [
    "# percentage of males and females in the cholesterol category by pie chart\n",
    "plt.figure(figsize=(9,8))\n",
    "data.groupby(\"gender\")[\"cholesterol\"].value_counts().plot(kind=\"pie\",autopct=\"%1.1f%%\")\n",
    "plt.show()"
   ]
  },
  {
   "cell_type": "markdown",
   "id": "ae92d237",
   "metadata": {},
   "source": [
    "- we have 74% patient with normal cholesterol and only 11% with high cholesterol\n",
    "- From above chart as per gender 3.6% female and 7.9% males are having high cholesterol"
   ]
  },
  {
   "cell_type": "code",
   "execution_count": 36,
   "id": "cf09be11",
   "metadata": {},
   "outputs": [],
   "source": [
    "# Finding out the % of the patients having cardiac disorders with age greater than 45\n",
    "a_c = data[((data[\"age\"]>45) & (data[\"cardio\"]==\"Yes\"))][\"id\"].count()"
   ]
  },
  {
   "cell_type": "code",
   "execution_count": 37,
   "id": "537b78b6",
   "metadata": {},
   "outputs": [
    {
     "data": {
      "text/plain": [
       "44.388571428571424"
      ]
     },
     "execution_count": 37,
     "metadata": {},
     "output_type": "execute_result"
    }
   ],
   "source": [
    "(a_c/y)*100"
   ]
  },
  {
   "cell_type": "markdown",
   "id": "501779df",
   "metadata": {},
   "source": [
    "- .44.38% patients are of age greater than 45 are having cardiac disorder"
   ]
  },
  {
   "cell_type": "code",
   "execution_count": 38,
   "id": "ff637928",
   "metadata": {},
   "outputs": [
    {
     "data": {
      "image/png": "[encoded data removed]",
      "text/plain": [
       "<Figure size 1080x504 with 1 Axes>"
      ]
     },
     "metadata": {
      "needs_background": "light"
     },
     "output_type": "display_data"
    }
   ],
   "source": [
    "plt.figure(figsize=(15,7))\n",
    "data.groupby(\"age\")[\"cardio\"].count().plot(kind=\"bar\")\n",
    "plt.show()"
   ]
  },
  {
   "cell_type": "markdown",
   "id": "c683f863",
   "metadata": {},
   "source": [
    "- people from age group of 49 to 63 have high amount of cardiac disorder"
   ]
  },
  {
   "cell_type": "code",
   "execution_count": 39,
   "id": "f5ac1d78",
   "metadata": {},
   "outputs": [
    {
     "data": {
      "text/plain": [
       "164.35922857142856"
      ]
     },
     "execution_count": 39,
     "metadata": {},
     "output_type": "execute_result"
    }
   ],
   "source": [
    "# finding out mean of height and weight\n",
    "data[\"height\"].mean()"
   ]
  },
  {
   "cell_type": "code",
   "execution_count": 40,
   "id": "bf337d0e",
   "metadata": {},
   "outputs": [
    {
     "data": {
      "text/plain": [
       "74.20569"
      ]
     },
     "execution_count": 40,
     "metadata": {},
     "output_type": "execute_result"
    }
   ],
   "source": [
    "data[\"weight\"].mean()"
   ]
  },
  {
   "cell_type": "code",
   "execution_count": 41,
   "id": "a417d45e",
   "metadata": {},
   "outputs": [],
   "source": [
    "# converting the height to less than or greater than its mean to short and big\n",
    "height_ratio = []\n",
    "\n",
    "for i in data[\"height\"]:\n",
    "    if (i < data.height.mean()):\n",
    "        height_ratio.append(\"short\")\n",
    "    else:\n",
    "        height_ratio.append(\"big\")"
   ]
  },
  {
   "cell_type": "code",
   "execution_count": 42,
   "id": "17d30fdc",
   "metadata": {},
   "outputs": [],
   "source": [
    "data[\"height_ratio\"] = height_ratio"
   ]
  },
  {
   "cell_type": "code",
   "execution_count": 43,
   "id": "05137c53",
   "metadata": {},
   "outputs": [],
   "source": [
    "# converting the weight to less than or greater than its mean to less and more\n",
    "weight_ratio = []\n",
    "\n",
    "for i in data[\"weight\"]:\n",
    "    if (i < data.weight.mean()):\n",
    "        weight_ratio.append(\"less\")\n",
    "    else:\n",
    "        weight_ratio.append(\"more\")"
   ]
  },
  {
   "cell_type": "code",
   "execution_count": 44,
   "id": "d942945a",
   "metadata": {},
   "outputs": [],
   "source": [
    "data[\"weight_ratio\"] = weight_ratio"
   ]
  },
  {
   "cell_type": "code",
   "execution_count": 45,
   "id": "4a78016a",
   "metadata": {},
   "outputs": [
    {
     "data": {
      "text/plain": [
       "big      35574\n",
       "short    34426\n",
       "Name: height_ratio, dtype: int64"
      ]
     },
     "execution_count": 45,
     "metadata": {},
     "output_type": "execute_result"
    }
   ],
   "source": [
    "data[\"height_ratio\"].value_counts()"
   ]
  },
  {
   "cell_type": "code",
   "execution_count": 46,
   "id": "b828018f",
   "metadata": {},
   "outputs": [
    {
     "data": {
      "text/plain": [
       "less    39697\n",
       "more    30303\n",
       "Name: weight_ratio, dtype: int64"
      ]
     },
     "execution_count": 46,
     "metadata": {},
     "output_type": "execute_result"
    }
   ],
   "source": [
    "data[\"weight_ratio\"].value_counts()"
   ]
  },
  {
   "cell_type": "code",
   "execution_count": 47,
   "id": "3aada29e",
   "metadata": {},
   "outputs": [],
   "source": [
    "# Short height and less weight\n",
    "a = data[(data[\"height_ratio\"]==\"short\") & (data[\"weight_ratio\"]==\"less\")][\"id\"].count()"
   ]
  },
  {
   "cell_type": "code",
   "execution_count": 48,
   "id": "cbf95942",
   "metadata": {},
   "outputs": [
    {
     "data": {
      "text/plain": [
       "31.698571428571427"
      ]
     },
     "execution_count": 48,
     "metadata": {},
     "output_type": "execute_result"
    }
   ],
   "source": [
    "(a/y)*100"
   ]
  },
  {
   "cell_type": "code",
   "execution_count": 49,
   "id": "c7ce2901",
   "metadata": {},
   "outputs": [],
   "source": [
    "# Big height and more weight\n",
    "b = data[(data[\"height_ratio\"]==\"big\") & (data[\"weight_ratio\"]==\"more\")][\"id\"].count()"
   ]
  },
  {
   "cell_type": "code",
   "execution_count": 50,
   "id": "35c236d4",
   "metadata": {},
   "outputs": [
    {
     "data": {
      "text/plain": [
       "25.80857142857143"
      ]
     },
     "execution_count": 50,
     "metadata": {},
     "output_type": "execute_result"
    }
   ],
   "source": [
    "(b/y)*100"
   ]
  },
  {
   "cell_type": "code",
   "execution_count": 51,
   "id": "c8528e89",
   "metadata": {},
   "outputs": [],
   "source": [
    "# Short height and more weight\n",
    "c = data[(data[\"height_ratio\"]==\"short\") & (data[\"weight_ratio\"]==\"more\")][\"id\"].count()"
   ]
  },
  {
   "cell_type": "code",
   "execution_count": 52,
   "id": "9180938d",
   "metadata": {},
   "outputs": [
    {
     "data": {
      "text/plain": [
       "17.481428571428573"
      ]
     },
     "execution_count": 52,
     "metadata": {},
     "output_type": "execute_result"
    }
   ],
   "source": [
    "(c/y)*100"
   ]
  },
  {
   "cell_type": "code",
   "execution_count": 53,
   "id": "04670f23",
   "metadata": {},
   "outputs": [],
   "source": [
    "# Big height and less weight\n",
    "d = data[(data[\"height_ratio\"]==\"big\") & (data[\"weight_ratio\"]==\"less\")][\"id\"].count()"
   ]
  },
  {
   "cell_type": "code",
   "execution_count": 54,
   "id": "cd932a5a",
   "metadata": {},
   "outputs": [
    {
     "data": {
      "text/plain": [
       "25.011428571428574"
      ]
     },
     "execution_count": 54,
     "metadata": {},
     "output_type": "execute_result"
    }
   ],
   "source": [
    "(d/y)*100"
   ]
  },
  {
   "cell_type": "code",
   "execution_count": 55,
   "id": "086f0730",
   "metadata": {},
   "outputs": [
    {
     "data": {
      "text/plain": [
       "gender  smoke\n",
       "Female  0        19114\n",
       "        1         5356\n",
       "Male    0        44717\n",
       "        1          813\n",
       "Name: smoke, dtype: int64"
      ]
     },
     "execution_count": 55,
     "metadata": {},
     "output_type": "execute_result"
    }
   ],
   "source": [
    "# finding out which gender smokes most\n",
    "# 1-Smoke , 0 -No-smoking\n",
    "data.groupby(\"gender\")[\"smoke\"].value_counts()"
   ]
  },
  {
   "cell_type": "code",
   "execution_count": 56,
   "id": "c54558ce",
   "metadata": {},
   "outputs": [
    {
     "data": {
      "image/png": "[encoded data removed]",
      "text/plain": [
       "<Figure size 576x360 with 1 Axes>"
      ]
     },
     "metadata": {
      "needs_background": "light"
     },
     "output_type": "display_data"
    }
   ],
   "source": [
    "plt.figure(figsize=(8,5))\n",
    "sns.countplot(x=\"gender\",hue=\"smoke\",data=data)\n",
    "plt.show()"
   ]
  },
  {
   "cell_type": "markdown",
   "id": "01798a24",
   "metadata": {},
   "source": [
    "- from above chart (5356)Females are smoking more ,than (813)males"
   ]
  },
  {
   "cell_type": "code",
   "execution_count": 57,
   "id": "77259ba5",
   "metadata": {},
   "outputs": [],
   "source": [
    "# which age of female smokes more\n",
    "f_s = data[((data[\"gender\"]==\"Female\") & (data[\"age\"]) & (data[\"smoke\"]==1))][\"age\"].value_counts().sort_values(ascending=True)"
   ]
  },
  {
   "cell_type": "code",
   "execution_count": 58,
   "id": "398e1a42",
   "metadata": {},
   "outputs": [
    {
     "data": {
      "image/png": "[encoded data removed]",
      "text/plain": [
       "<Figure size 720x576 with 1 Axes>"
      ]
     },
     "metadata": {
      "needs_background": "light"
     },
     "output_type": "display_data"
    }
   ],
   "source": [
    "plt.figure(figsize=(10,8))\n",
    "f_s.plot(kind=\"barh\")\n",
    "plt.show()"
   ]
  },
  {
   "cell_type": "markdown",
   "id": "89ef9abc",
   "metadata": {},
   "source": [
    "- Females which are age of 55 smokes more"
   ]
  },
  {
   "cell_type": "code",
   "execution_count": 59,
   "id": "ae6d428f",
   "metadata": {},
   "outputs": [
    {
     "data": {
      "text/plain": [
       "0    66236\n",
       "1     3764\n",
       "Name: alco, dtype: int64"
      ]
     },
     "execution_count": 59,
     "metadata": {},
     "output_type": "execute_result"
    }
   ],
   "source": [
    "# alcohol : 1 = Drinks alcohol , 0 = Does not drink alcohol.\n",
    "data[\"alco\"].value_counts()"
   ]
  },
  {
   "cell_type": "code",
   "execution_count": 60,
   "id": "e685ed9b",
   "metadata": {},
   "outputs": [
    {
     "data": {
      "text/plain": [
       "gender  alco\n",
       "Female  0       21867\n",
       "        1        2603\n",
       "Male    0       44369\n",
       "        1        1161\n",
       "Name: alco, dtype: int64"
      ]
     },
     "execution_count": 60,
     "metadata": {},
     "output_type": "execute_result"
    }
   ],
   "source": [
    "# finding out which gender consume alcohol most\n",
    "data.groupby(\"gender\")[\"alco\"].value_counts()"
   ]
  },
  {
   "cell_type": "code",
   "execution_count": 61,
   "id": "22143d33",
   "metadata": {},
   "outputs": [
    {
     "data": {
      "image/png": "[encoded data removed]",
      "text/plain": [
       "<Figure size 576x432 with 1 Axes>"
      ]
     },
     "metadata": {
      "needs_background": "light"
     },
     "output_type": "display_data"
    }
   ],
   "source": [
    "plt.figure(figsize=(8,6))\n",
    "sns.countplot(x=\"gender\",hue=\"alco\",data=data)\n",
    "plt.title(\"gender Vs Alcohol\")\n",
    "plt.show()"
   ]
  },
  {
   "cell_type": "markdown",
   "id": "1ff37160",
   "metadata": {},
   "source": [
    "- as per gender, 2603 females consume more alcohol , than 1161 males"
   ]
  },
  {
   "cell_type": "code",
   "execution_count": 62,
   "id": "f38c9b9e",
   "metadata": {},
   "outputs": [],
   "source": [
    "# at which age females consume more alochol\n",
    "f_a = data[((data[\"gender\"]==\"Female\") & (data[\"age\"]) & (data[\"alco\"]==1))][\"age\"].value_counts().sort_values(ascending=True)"
   ]
  },
  {
   "cell_type": "code",
   "execution_count": 63,
   "id": "8ac422c9",
   "metadata": {},
   "outputs": [
    {
     "data": {
      "image/png": "[encoded data removed]",
      "text/plain": [
       "<Figure size 720x576 with 1 Axes>"
      ]
     },
     "metadata": {
      "needs_background": "light"
     },
     "output_type": "display_data"
    }
   ],
   "source": [
    "plt.figure(figsize=(10,8))\n",
    "f_a.plot(kind=\"barh\")\n",
    "plt.show()"
   ]
  },
  {
   "cell_type": "markdown",
   "id": "e77a6513",
   "metadata": {},
   "source": [
    "Most Females from Age 57 drinks lots of alcohol"
   ]
  },
  {
   "cell_type": "code",
   "execution_count": 64,
   "id": "89e77ffe",
   "metadata": {},
   "outputs": [
    {
     "data": {
      "text/html": [
       "<div>\n",
       "<style scoped>\n",
       "    .dataframe tbody tr th:only-of-type {\n",
       "        vertical-align: middle;\n",
       "    }\n",
       "\n",
       "    .dataframe tbody tr th {\n",
       "        vertical-align: top;\n",
       "    }\n",
       "\n",
       "    .dataframe thead th {\n",
       "        text-align: right;\n",
       "    }\n",
       "</style>\n",
       "<table border=\"1\" class=\"dataframe\">\n",
       "  <thead>\n",
       "    <tr style=\"text-align: right;\">\n",
       "      <th></th>\n",
       "      <th>id</th>\n",
       "      <th>age</th>\n",
       "      <th>gender</th>\n",
       "      <th>height</th>\n",
       "      <th>weight</th>\n",
       "      <th>ap_hi</th>\n",
       "      <th>ap_lo</th>\n",
       "      <th>cholesterol</th>\n",
       "      <th>gluc</th>\n",
       "      <th>smoke</th>\n",
       "      <th>alco</th>\n",
       "      <th>active</th>\n",
       "      <th>cardio</th>\n",
       "      <th>height_ratio</th>\n",
       "      <th>weight_ratio</th>\n",
       "    </tr>\n",
       "  </thead>\n",
       "  <tbody>\n",
       "    <tr>\n",
       "      <th>0</th>\n",
       "      <td>0</td>\n",
       "      <td>50</td>\n",
       "      <td>Female</td>\n",
       "      <td>168</td>\n",
       "      <td>62.0</td>\n",
       "      <td>110</td>\n",
       "      <td>80</td>\n",
       "      <td>Normal</td>\n",
       "      <td>1</td>\n",
       "      <td>0</td>\n",
       "      <td>0</td>\n",
       "      <td>1</td>\n",
       "      <td>No</td>\n",
       "      <td>big</td>\n",
       "      <td>less</td>\n",
       "    </tr>\n",
       "  </tbody>\n",
       "</table>\n",
       "</div>"
      ],
      "text/plain": [
       "   id  age  gender  height  weight  ap_hi  ap_lo cholesterol  gluc  smoke  \\\n",
       "0   0   50  Female     168    62.0    110     80      Normal     1      0   \n",
       "\n",
       "   alco  active cardio height_ratio weight_ratio  \n",
       "0     0       1     No          big         less  "
      ]
     },
     "execution_count": 64,
     "metadata": {},
     "output_type": "execute_result"
    }
   ],
   "source": [
    "data.head(1)"
   ]
  },
  {
   "cell_type": "code",
   "execution_count": 65,
   "id": "397a4580",
   "metadata": {},
   "outputs": [
    {
     "data": {
      "text/plain": [
       "gender  cardio  active\n",
       "Female  No      0          2113\n",
       "                1          9994\n",
       "        Yes     0          2612\n",
       "                1          9751\n",
       "Male    No      0          4265\n",
       "                1         18649\n",
       "        Yes     0          4749\n",
       "                1         17867\n",
       "Name: age, dtype: int64"
      ]
     },
     "execution_count": 65,
     "metadata": {},
     "output_type": "execute_result"
    }
   ],
   "source": [
    "# finding out which gender have no cardiac disorder and also he/she is fit\n",
    "data.groupby([\"gender\",\"cardio\",\"active\"])[\"age\"].count()"
   ]
  },
  {
   "cell_type": "code",
   "execution_count": 66,
   "id": "7cffddcf",
   "metadata": {},
   "outputs": [],
   "source": [
    "g_c_a1 = data[((data[\"gender\"]==\"Female\") & (data[\"cardio\"]==\"No\") & (data[\"active\"]==1))][\"age\"].count()"
   ]
  },
  {
   "cell_type": "code",
   "execution_count": 67,
   "id": "ac539310",
   "metadata": {},
   "outputs": [],
   "source": [
    "g_c_a2 = data[((data[\"gender\"]==\"Male\") & (data[\"cardio\"]==\"No\") & (data[\"active\"]==1))][\"age\"].count()"
   ]
  },
  {
   "cell_type": "code",
   "execution_count": 68,
   "id": "7ac7afa8",
   "metadata": {},
   "outputs": [],
   "source": [
    "table = pd.DataFrame([g_c_a1,g_c_a2])"
   ]
  },
  {
   "cell_type": "code",
   "execution_count": 69,
   "id": "401d29c3",
   "metadata": {},
   "outputs": [
    {
     "data": {
      "text/html": [
       "<div>\n",
       "<style scoped>\n",
       "    .dataframe tbody tr th:only-of-type {\n",
       "        vertical-align: middle;\n",
       "    }\n",
       "\n",
       "    .dataframe tbody tr th {\n",
       "        vertical-align: top;\n",
       "    }\n",
       "\n",
       "    .dataframe thead th {\n",
       "        text-align: right;\n",
       "    }\n",
       "</style>\n",
       "<table border=\"1\" class=\"dataframe\">\n",
       "  <thead>\n",
       "    <tr style=\"text-align: right;\">\n",
       "      <th></th>\n",
       "      <th>active</th>\n",
       "    </tr>\n",
       "  </thead>\n",
       "  <tbody>\n",
       "    <tr>\n",
       "      <th>Female</th>\n",
       "      <td>9994</td>\n",
       "    </tr>\n",
       "    <tr>\n",
       "      <th>Male</th>\n",
       "      <td>18649</td>\n",
       "    </tr>\n",
       "  </tbody>\n",
       "</table>\n",
       "</div>"
      ],
      "text/plain": [
       "        active\n",
       "Female    9994\n",
       "Male     18649"
      ]
     },
     "execution_count": 69,
     "metadata": {},
     "output_type": "execute_result"
    }
   ],
   "source": [
    "table.columns = [\"active\"]\n",
    "table.index = [\"Female\",\"Male\"]\n",
    "table"
   ]
  },
  {
   "cell_type": "markdown",
   "id": "1fb635b1",
   "metadata": {},
   "source": [
    "- Females that are active and having no cardiac diseases are 9994\n",
    "- Males that are active and having no cardiac diseases are 18649"
   ]
  },
  {
   "cell_type": "code",
   "execution_count": 70,
   "id": "b500fa49",
   "metadata": {},
   "outputs": [
    {
     "data": {
      "text/html": [
       "<div>\n",
       "<style scoped>\n",
       "    .dataframe tbody tr th:only-of-type {\n",
       "        vertical-align: middle;\n",
       "    }\n",
       "\n",
       "    .dataframe tbody tr th {\n",
       "        vertical-align: top;\n",
       "    }\n",
       "\n",
       "    .dataframe thead th {\n",
       "        text-align: right;\n",
       "    }\n",
       "</style>\n",
       "<table border=\"1\" class=\"dataframe\">\n",
       "  <thead>\n",
       "    <tr style=\"text-align: right;\">\n",
       "      <th></th>\n",
       "      <th>id</th>\n",
       "      <th>age</th>\n",
       "      <th>gender</th>\n",
       "      <th>height</th>\n",
       "      <th>weight</th>\n",
       "      <th>ap_hi</th>\n",
       "      <th>ap_lo</th>\n",
       "      <th>cholesterol</th>\n",
       "      <th>gluc</th>\n",
       "      <th>smoke</th>\n",
       "      <th>alco</th>\n",
       "      <th>active</th>\n",
       "      <th>cardio</th>\n",
       "      <th>height_ratio</th>\n",
       "      <th>weight_ratio</th>\n",
       "    </tr>\n",
       "  </thead>\n",
       "  <tbody>\n",
       "    <tr>\n",
       "      <th>0</th>\n",
       "      <td>0</td>\n",
       "      <td>50</td>\n",
       "      <td>Female</td>\n",
       "      <td>168</td>\n",
       "      <td>62.0</td>\n",
       "      <td>110</td>\n",
       "      <td>80</td>\n",
       "      <td>Normal</td>\n",
       "      <td>1</td>\n",
       "      <td>0</td>\n",
       "      <td>0</td>\n",
       "      <td>1</td>\n",
       "      <td>No</td>\n",
       "      <td>big</td>\n",
       "      <td>less</td>\n",
       "    </tr>\n",
       "  </tbody>\n",
       "</table>\n",
       "</div>"
      ],
      "text/plain": [
       "   id  age  gender  height  weight  ap_hi  ap_lo cholesterol  gluc  smoke  \\\n",
       "0   0   50  Female     168    62.0    110     80      Normal     1      0   \n",
       "\n",
       "   alco  active cardio height_ratio weight_ratio  \n",
       "0     0       1     No          big         less  "
      ]
     },
     "execution_count": 70,
     "metadata": {},
     "output_type": "execute_result"
    }
   ],
   "source": [
    "data.head(1)"
   ]
  },
  {
   "cell_type": "code",
   "execution_count": 71,
   "id": "57cacd06",
   "metadata": {},
   "outputs": [
    {
     "data": {
      "text/plain": [
       "<Figure size 720x576 with 0 Axes>"
      ]
     },
     "metadata": {},
     "output_type": "display_data"
    },
    {
     "data": {
      "image/png": "[encoded data removed]",
      "text/plain": [
       "<Figure size 432x432 with 3 Axes>"
      ]
     },
     "metadata": {
      "needs_background": "light"
     },
     "output_type": "display_data"
    }
   ],
   "source": [
    "# According to height and weight checking the sugar level criteria\n",
    "# gluco: 1 = Normal , 2 = Slightly above normal , 3 = High sugar level\n",
    "plt.figure(figsize=[10,8])\n",
    "sns.jointplot(x=\"height\",y=\"weight\",hue=\"gluc\",data=data,palette=\"bright\")\n",
    "plt.show()"
   ]
  },
  {
   "cell_type": "markdown",
   "id": "b2d7b28f",
   "metadata": {},
   "source": [
    "- As from above chart most of the blood sugar level comes under in weight 25 to 175kg and height 125 to 200cm "
   ]
  },
  {
   "cell_type": "code",
   "execution_count": 72,
   "id": "619ba4e1",
   "metadata": {},
   "outputs": [
    {
     "data": {
      "text/html": [
       "<div>\n",
       "<style scoped>\n",
       "    .dataframe tbody tr th:only-of-type {\n",
       "        vertical-align: middle;\n",
       "    }\n",
       "\n",
       "    .dataframe tbody tr th {\n",
       "        vertical-align: top;\n",
       "    }\n",
       "\n",
       "    .dataframe thead th {\n",
       "        text-align: right;\n",
       "    }\n",
       "</style>\n",
       "<table border=\"1\" class=\"dataframe\">\n",
       "  <thead>\n",
       "    <tr style=\"text-align: right;\">\n",
       "      <th></th>\n",
       "      <th></th>\n",
       "      <th>age</th>\n",
       "    </tr>\n",
       "    <tr>\n",
       "      <th>gluc</th>\n",
       "      <th>cardio</th>\n",
       "      <th></th>\n",
       "    </tr>\n",
       "  </thead>\n",
       "  <tbody>\n",
       "    <tr>\n",
       "      <th rowspan=\"2\" valign=\"top\">1</th>\n",
       "      <th>No</th>\n",
       "      <td>30894</td>\n",
       "    </tr>\n",
       "    <tr>\n",
       "      <th>Yes</th>\n",
       "      <td>28585</td>\n",
       "    </tr>\n",
       "    <tr>\n",
       "      <th rowspan=\"2\" valign=\"top\">2</th>\n",
       "      <th>No</th>\n",
       "      <td>2112</td>\n",
       "    </tr>\n",
       "    <tr>\n",
       "      <th>Yes</th>\n",
       "      <td>3078</td>\n",
       "    </tr>\n",
       "    <tr>\n",
       "      <th rowspan=\"2\" valign=\"top\">3</th>\n",
       "      <th>No</th>\n",
       "      <td>2015</td>\n",
       "    </tr>\n",
       "    <tr>\n",
       "      <th>Yes</th>\n",
       "      <td>3316</td>\n",
       "    </tr>\n",
       "  </tbody>\n",
       "</table>\n",
       "</div>"
      ],
      "text/plain": [
       "               age\n",
       "gluc cardio       \n",
       "1    No      30894\n",
       "     Yes     28585\n",
       "2    No       2112\n",
       "     Yes      3078\n",
       "3    No       2015\n",
       "     Yes      3316"
      ]
     },
     "execution_count": 72,
     "metadata": {},
     "output_type": "execute_result"
    }
   ],
   "source": [
    "# finding out age who has how much sugar level\n",
    "data.groupby([\"gluc\",\"cardio\"])[[\"age\"]].count()"
   ]
  },
  {
   "cell_type": "code",
   "execution_count": 73,
   "id": "1674e017",
   "metadata": {},
   "outputs": [
    {
     "data": {
      "image/png": "[encoded data removed]",
      "text/plain": [
       "<Figure size 864x720 with 1 Axes>"
      ]
     },
     "metadata": {
      "needs_background": "light"
     },
     "output_type": "display_data"
    }
   ],
   "source": [
    "plt.figure(figsize=[12,10])\n",
    "sns.countplot(y=\"age\",hue=\"gluc\",data=data)\n",
    "plt.show()"
   ]
  },
  {
   "cell_type": "markdown",
   "id": "8fb171aa",
   "metadata": {},
   "source": [
    "- Most of the patients are having sugar but at normal level\n",
    "- And from age 49 to 64 are having slightly above normal sugar level and also High sugar level patients"
   ]
  },
  {
   "cell_type": "code",
   "execution_count": 74,
   "id": "8b7d79f3",
   "metadata": {},
   "outputs": [],
   "source": [
    "# for better correlation changing chol objects to int\n",
    "data[\"cholesterol\"] = data.cholesterol.replace([\"Normal\",\"Slightly_above_normal\",\"High cholesterol\"],[1,2,3])"
   ]
  },
  {
   "cell_type": "code",
   "execution_count": 75,
   "id": "e77a400b",
   "metadata": {},
   "outputs": [
    {
     "data": {
      "image/png": "[encoded data removed]",
      "text/plain": [
       "<Figure size 1080x648 with 2 Axes>"
      ]
     },
     "metadata": {
      "needs_background": "light"
     },
     "output_type": "display_data"
    }
   ],
   "source": [
    "# checking the correlation\n",
    "plt.figure(figsize=(15,9))\n",
    "sns.heatmap(data.corr(),annot=True,cmap=\"YlGnBu\")\n",
    "plt.show()"
   ]
  },
  {
   "cell_type": "markdown",
   "id": "413251a9",
   "metadata": {},
   "source": [
    "Smoke and cholesterol are important factors"
   ]
  },
  {
   "cell_type": "code",
   "execution_count": null,
   "id": "c38ee893",
   "metadata": {},
   "outputs": [],
   "source": []
  },
  {
   "cell_type": "code",
   "execution_count": null,
   "id": "6847b9c0",
   "metadata": {},
   "outputs": [],
   "source": []
  },
  {
   "cell_type": "code",
   "execution_count": null,
   "id": "f75e1dd1",
   "metadata": {},
   "outputs": [],
   "source": []
  }
 ],
 "metadata": {
  "kernelspec": {
   "display_name": "Python 3 (ipykernel)",
   "language": "python",
   "name": "python3"
  },
  "language_info": {
   "codemirror_mode": {
    "name": "ipython",
    "version": 3
   },
   "file_extension": ".py",
   "mimetype": "text/x-python",
   "name": "python",
   "nbconvert_exporter": "python",
   "pygments_lexer": "ipython3",
   "version": "3.9.7"
  }
 },
 "nbformat": 4,
 "nbformat_minor": 5
}
